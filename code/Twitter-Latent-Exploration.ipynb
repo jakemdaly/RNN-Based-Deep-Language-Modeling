{
 "cells": [
  {
   "cell_type": "code",
   "execution_count": null,
   "metadata": {},
   "outputs": [],
   "source": [
    "import json\n",
    "import numpy as np\n",
    "import pandas as pd\n",
    "from sklearn.manifold import TSNE\n",
    "import holoviews as hv\n",
    "hv.extension('bokeh')"
   ]
  },
  {
   "cell_type": "code",
   "execution_count": null,
   "metadata": {},
   "outputs": [],
   "source": [
    "PoliticianLatents = json.load(open(\"PoliticianLatentsE2.json\", 'r'))\n",
    "PoliticianSentences = json.load(open('PoliticianSentences.json', 'r'))"
   ]
  },
  {
   "cell_type": "code",
   "execution_count": null,
   "metadata": {},
   "outputs": [],
   "source": [
    "AllLatents = None\n",
    "for key, value in PoliticianLatents.items():\n",
    "    print(key, np.shape(PoliticianLatents[key]))\n",
    "    PoliticianLatents[key] = np.array(value)\n",
    "    if AllLatents is None:\n",
    "        AllLatents = PoliticianLatents[key]\n",
    "    else:\n",
    "        AllLatents = np.append(AllLatents, PoliticianLatents[key], axis=0)\n",
    "\n",
    "left = ['test.SenSanders', 'test.ewarren', 'test.AOC', 'test.HillaryClinton', 'test.SenatorDurbin', 'test.Sen_JoeManchin', 'test.SenatorTester', 'test.SenSchumer', 'test.cbellantoni', 'test.donnabrazile', 'test.ggreenwald', 'test.nicopitney']\n",
    "right = ['test.senatemajldr', 'test.LindseyGrahamSC', 'test.realDonaldTrump', 'test.MittRomney', 'test.GOPLeader', 'test.RepDougCollins', 'test.ewerickson', 'test.mindyfinn', 'test.TPCarney', 'test.anamariecox', 'test.TuckerCarlson']\n",
    "\n",
    "print(len(right)+len(left))"
   ]
  },
  {
   "cell_type": "code",
   "execution_count": null,
   "metadata": {},
   "outputs": [],
   "source": [
    "Sentences = []\n",
    "for key, value in PoliticianSentences.items():\n",
    "    for sen in value:\n",
    "        example = {'Name': key, 'Sentence': sen}\n",
    "        Sentences.append(example)\n",
    "Sentences = pd.DataFrame(Sentences)"
   ]
  },
  {
   "cell_type": "code",
   "execution_count": null,
   "metadata": {},
   "outputs": [],
   "source": [
    "PoliticianSentences['test.realDonaldTrump'][0]"
   ]
  },
  {
   "cell_type": "code",
   "execution_count": null,
   "metadata": {},
   "outputs": [],
   "source": [
    "tsne = TSNE(n_components=2).fit_transform(AllLatents)\n",
    "PreFrame = []\n",
    "colors=[]\n",
    "c = 0\n",
    "for key, value in PoliticianLatents.items():\n",
    "    colors.append({'Name': key, 'Color': 'blue' if key in left else 'red'})\n",
    "    for latent in value:\n",
    "        example = {'Name': key, 'Latent': latent, 'tsne': tsne[c]}\n",
    "        c += 1\n",
    "        PreFrame.append(example)\n",
    "data = pd.DataFrame(PreFrame)\n",
    "colors = pd.DataFrame(colors)\n",
    "combined = data.set_index('Name').join(colors.set_index('Name'))\n",
    "combined = combined.reset_index()\n",
    "data.count()"
   ]
  },
  {
   "cell_type": "code",
   "execution_count": null,
   "metadata": {},
   "outputs": [],
   "source": [
    "plot_data = [list(combined.iloc[el].tsne) + [combined.iloc[el].Color] for el in range(combined.count()[0])]"
   ]
  },
  {
   "cell_type": "code",
   "execution_count": null,
   "metadata": {},
   "outputs": [],
   "source": [
    "def compare_politicians(left, right):\n",
    "    left = list(data[data['Name']==f'test.{left}'].tsne)\n",
    "    right = list(data[data['Name']==f'test.{right}'].tsne)\n",
    "    others = list(data.query(f\"Name not in ('test.{left}', 'test.{right}')\").tsne)\n",
    "    return left, right, others\n",
    "   "
   ]
  },
  {
   "cell_type": "code",
   "execution_count": null,
   "metadata": {},
   "outputs": [],
   "source": [
    "hv.Scatter(plot_data, vdims=['y', 'z']).opts(color='z', width=900, height=600, size=10)"
   ]
  },
  {
   "cell_type": "code",
   "execution_count": null,
   "metadata": {},
   "outputs": [],
   "source": [
    "Sentences"
   ]
  },
  {
   "cell_type": "code",
   "execution_count": null,
   "metadata": {
    "scrolled": false
   },
   "outputs": [],
   "source": [
    "def udf(x):\n",
    "    if (x[0] > 2 and x[0] < 12) and (x[1] > 2 and x[1] < 25):\n",
    "        return True\n",
    "    else:\n",
    "        return False\n",
    "# combined[[True]*19590]\n",
    "DemocraticSentences = combined[list(map(lambda x: udf(x), combined.tsne))].index\n",
    "Sentences.iloc[DemocraticSentences]"
   ]
  },
  {
   "cell_type": "code",
   "execution_count": null,
   "metadata": {},
   "outputs": [],
   "source": [
    "combined.drop('Color', axis=1).groupby(['Name', 'Names']).agg(lambda x: np.mean(x, axis=0))"
   ]
  },
  {
   "cell_type": "code",
   "execution_count": null,
   "metadata": {},
   "outputs": [],
   "source": [
    "np.array(data.groupby(['Name']).agg(lambda x: np.mean(x, axis=0)).tsne).mean(axis=0)"
   ]
  },
  {
   "cell_type": "code",
   "execution_count": null,
   "metadata": {},
   "outputs": [],
   "source": [
    "averages_red = np.array(combined[combined['Color']=='red'].tsne).mean(axis=0)\n",
    "num_red = len(np.array(combined[combined['Color']=='red'].tsne))\n",
    "\n",
    "averages_blue = np.array(combined[combined['Color']=='blue'].tsne).mean(axis=0)\n",
    "num_blue = len(np.array(combined[combined['Color']=='blue'].tsne))\n",
    "\n",
    "p_red = num_red/(num_red+num_blue)\n",
    "p_blue = num_blue/(num_red+num_blue)\n",
    "\n",
    "p_red*averages_red + p_blue*averages_blue"
   ]
  },
  {
   "cell_type": "code",
   "execution_count": null,
   "metadata": {},
   "outputs": [],
   "source": [
    "combined.head()"
   ]
  },
  {
   "cell_type": "code",
   "execution_count": null,
   "metadata": {},
   "outputs": [],
   "source": [
    "l, r, o = compare_politicians('senatemajldr', 'AOC')\n",
    "\n",
    "lscat = hv.Scatter(l).opts(size=8, width=900, height=600, color='blue')\n",
    "rscat = hv.Scatter(r).opts(size=8, width=900, height=600, color='red')\n",
    "oscat = hv.Scatter(o).opts(size=8, width=900, height=600, color='lightgrey')\n",
    "\n",
    "oscat * lscat * rscat"
   ]
  },
  {
   "cell_type": "code",
   "execution_count": null,
   "metadata": {},
   "outputs": [],
   "source": [
    "from sklearn.ensemble import RandomForestClassifier\n",
    "from sklearn.model_selection import train_test_split\n",
    "from sklearn.metrics import confusion_matrix\n",
    "\n",
    "labels = [1 if el=='blue' else 0 for el in list(combined.Color)]\n",
    "\n",
    "# Reshape Data\n",
    "dtrain, dtest, ltrain, ltest = train_test_split(np.array(combined.Latent), np.array(labels), test_size=.2, shuffle=True)\n",
    "dtrain = np.array([list(el) for el in list(dtrain)])\n",
    "ltrain = np.array([el for el in list(ltrain)])\n",
    "dtest = np.array([list(el) for el in list(dtest)])\n",
    "ltest = np.array([el for el in list(ltest)])\n",
    "\n",
    "rfc = RandomForestClassifier().fit(dtrain, ltrain)\n",
    "preds_cl = rfc.predict(dtest)\n",
    "print(sum([preds_cl[i]==ltest[i] for i in range(len(ltest))]))\n",
    "score = rfc.score(dtest, ltest)\n",
    "cnf_m = confusion_matrix(ltest, preds_cl)\n",
    "print(\"confusion matrix:\")\n",
    "print(cnf_m)\n",
    "print(\"model accuracy:\")\n",
    "print(score)\n",
    "\n"
   ]
  },
  {
   "cell_type": "code",
   "execution_count": null,
   "metadata": {},
   "outputs": [],
   "source": []
  }
 ],
 "metadata": {
  "kernelspec": {
   "display_name": "Python 3",
   "language": "python",
   "name": "python3"
  },
  "language_info": {
   "codemirror_mode": {
    "name": "ipython",
    "version": 3
   },
   "file_extension": ".py",
   "mimetype": "text/x-python",
   "name": "python",
   "nbconvert_exporter": "python",
   "pygments_lexer": "ipython3",
   "version": "3.7.6"
  }
 },
 "nbformat": 4,
 "nbformat_minor": 4
}
